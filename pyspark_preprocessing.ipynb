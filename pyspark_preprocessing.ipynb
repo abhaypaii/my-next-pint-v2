{
 "cells": [
  {
   "cell_type": "code",
   "execution_count": 1,
   "metadata": {},
   "outputs": [],
   "source": [
    "from pyspark.sql import SparkSession\n",
    "from pyspark.sql.functions import sum ,avg, count\n",
    "import pandas as pd"
   ]
  },
  {
   "cell_type": "code",
   "execution_count": 2,
   "metadata": {},
   "outputs": [
    {
     "name": "stderr",
     "output_type": "stream",
     "text": [
      "24/11/11 17:12:22 WARN Utils: Your hostname, Abhays-MacBook-Air-3.local resolves to a loopback address: 127.0.0.1; using 192.168.0.36 instead (on interface en0)\n",
      "24/11/11 17:12:22 WARN Utils: Set SPARK_LOCAL_IP if you need to bind to another address\n",
      "Setting default log level to \"WARN\".\n",
      "To adjust logging level use sc.setLogLevel(newLevel). For SparkR, use setLogLevel(newLevel).\n",
      "24/11/11 17:12:27 WARN NativeCodeLoader: Unable to load native-hadoop library for your platform... using builtin-java classes where applicable\n",
      "24/11/11 17:12:33 WARN Utils: Service 'SparkUI' could not bind on port 4040. Attempting port 4041.\n"
     ]
    }
   ],
   "source": [
    "spark = SparkSession.builder \\\n",
    "    .appName(\"Beer Reviews Preprocessing\") \\\n",
    "    .config(\"spark.executor.memory\", \"4g\") \\\n",
    "    .getOrCreate()"
   ]
  },
  {
   "cell_type": "code",
   "execution_count": 3,
   "metadata": {},
   "outputs": [],
   "source": [
    "reviews = spark.read.csv(path=\"downloaded_data/reviews.csv\", header=True, schema=\"beer_id INT, username STRING, date DATE, text STRING, look DOUBLE, smell DOUBLE, taste DOUBLE, feel DOUBLE, overall DOUBLE, score DOUBLE\")"
   ]
  },
  {
   "cell_type": "code",
   "execution_count": 4,
   "metadata": {},
   "outputs": [],
   "source": [
    "grouped_reviews = reviews.repartition(4).drop(\"username\", \"date\", \"text\") \\\n",
    "        .dropna(subset=[\"look\", \"smell\", \"taste\", \"feel\", \"overall\", \"score\"]) \\\n",
    "        .groupby(\"beer_id\").agg(\n",
    "            count(\"*\").alias(\"count\"),\n",
    "            avg(\"look\").alias(\"look\"),\n",
    "            avg(\"smell\").alias(\"smell\"),\n",
    "            avg(\"taste\").alias(\"taste\"),\n",
    "            avg(\"feel\").alias(\"feel\"),\n",
    "            avg(\"overall\").alias(\"overall\"),\n",
    "            avg(\"score\").alias(\"score\")\n",
    "        ).filter(\"count > 3\")"
   ]
  },
  {
   "cell_type": "code",
   "execution_count": 5,
   "metadata": {},
   "outputs": [
    {
     "name": "stderr",
     "output_type": "stream",
     "text": [
      "                                                                                \r"
     ]
    }
   ],
   "source": [
    "beers = spark.read.csv(path=\"downloaded_data/beers.csv\", header=True, inferSchema=True)"
   ]
  },
  {
   "cell_type": "code",
   "execution_count": 6,
   "metadata": {},
   "outputs": [
    {
     "name": "stderr",
     "output_type": "stream",
     "text": [
      "                                                                                \r"
     ]
    }
   ],
   "source": [
    "breweries = spark.read.csv(path=\"downloaded_data/breweries.csv\", header=True, inferSchema=True)\n",
    "breweries = breweries.drop(\"country\", \"notes\", \"types\")"
   ]
  },
  {
   "cell_type": "code",
   "execution_count": 7,
   "metadata": {},
   "outputs": [],
   "source": [
    "data = beers.join(grouped_reviews, beers.id == grouped_reviews.beer_id, \"inner\").drop(\"state\", \"notes\", \"beer_id\")"
   ]
  },
  {
   "cell_type": "code",
   "execution_count": 8,
   "metadata": {},
   "outputs": [],
   "source": [
    "final = data.join(breweries, data.brewery_id == breweries.id, \"inner\")"
   ]
  },
  {
   "cell_type": "code",
   "execution_count": 34,
   "metadata": {},
   "outputs": [
    {
     "name": "stderr",
     "output_type": "stream",
     "text": [
      "                                                                                \r"
     ]
    }
   ],
   "source": [
    "df = final.toPandas()"
   ]
  },
  {
   "cell_type": "code",
   "execution_count": 35,
   "metadata": {},
   "outputs": [],
   "source": [
    "df = df.drop(columns=[\"city\", \"state\"]).rename(columns={\"name\":\"beer\"}).dropna(subset=\"abv\")\n",
    "\n",
    "duplicate_columns = df.columns.duplicated()\n",
    "df = df.loc[:, ~duplicate_columns]"
   ]
  },
  {
   "cell_type": "code",
   "execution_count": 36,
   "metadata": {},
   "outputs": [
    {
     "data": {
      "text/html": [
       "<div>\n",
       "<style scoped>\n",
       "    .dataframe tbody tr th:only-of-type {\n",
       "        vertical-align: middle;\n",
       "    }\n",
       "\n",
       "    .dataframe tbody tr th {\n",
       "        vertical-align: top;\n",
       "    }\n",
       "\n",
       "    .dataframe thead th {\n",
       "        text-align: right;\n",
       "    }\n",
       "</style>\n",
       "<table border=\"1\" class=\"dataframe\">\n",
       "  <thead>\n",
       "    <tr style=\"text-align: right;\">\n",
       "      <th></th>\n",
       "      <th>id</th>\n",
       "      <th>beer</th>\n",
       "      <th>brewery_id</th>\n",
       "      <th>country</th>\n",
       "      <th>style</th>\n",
       "      <th>availability</th>\n",
       "      <th>abv</th>\n",
       "      <th>retired</th>\n",
       "      <th>count</th>\n",
       "      <th>look</th>\n",
       "      <th>smell</th>\n",
       "      <th>taste</th>\n",
       "      <th>feel</th>\n",
       "      <th>overall</th>\n",
       "      <th>score</th>\n",
       "      <th>brewery</th>\n",
       "    </tr>\n",
       "  </thead>\n",
       "  <tbody>\n",
       "    <tr>\n",
       "      <th>112</th>\n",
       "      <td>1238</td>\n",
       "      <td>Pale Ale</td>\n",
       "      <td>403</td>\n",
       "      <td>US</td>\n",
       "      <td>American Pale Ale (APA)</td>\n",
       "      <td>Summer</td>\n",
       "      <td>5.8</td>\n",
       "      <td>f</td>\n",
       "      <td>47</td>\n",
       "      <td>3.654255</td>\n",
       "      <td>3.452128</td>\n",
       "      <td>3.494681</td>\n",
       "      <td>3.489362</td>\n",
       "      <td>3.638298</td>\n",
       "      <td>3.522766</td>\n",
       "      <td>Pyramid Breweries, Inc.</td>\n",
       "    </tr>\n",
       "    <tr>\n",
       "      <th>195</th>\n",
       "      <td>2094</td>\n",
       "      <td>Pale Ale</td>\n",
       "      <td>423</td>\n",
       "      <td>US</td>\n",
       "      <td>American Pale Ale (APA)</td>\n",
       "      <td>Year-round</td>\n",
       "      <td>5.4</td>\n",
       "      <td>f</td>\n",
       "      <td>556</td>\n",
       "      <td>3.737410</td>\n",
       "      <td>3.514388</td>\n",
       "      <td>3.652428</td>\n",
       "      <td>3.658273</td>\n",
       "      <td>3.795414</td>\n",
       "      <td>3.654388</td>\n",
       "      <td>Boulevard Brewing Co.</td>\n",
       "    </tr>\n",
       "    <tr>\n",
       "      <th>401</th>\n",
       "      <td>4798</td>\n",
       "      <td>Pale Ale</td>\n",
       "      <td>1683</td>\n",
       "      <td>US</td>\n",
       "      <td>American Pale Ale (APA)</td>\n",
       "      <td>Year-round</td>\n",
       "      <td>5.4</td>\n",
       "      <td>f</td>\n",
       "      <td>187</td>\n",
       "      <td>3.667112</td>\n",
       "      <td>3.326203</td>\n",
       "      <td>3.457219</td>\n",
       "      <td>3.517380</td>\n",
       "      <td>3.584225</td>\n",
       "      <td>3.470588</td>\n",
       "      <td>Santa Fe Brewing Company</td>\n",
       "    </tr>\n",
       "    <tr>\n",
       "      <th>409</th>\n",
       "      <td>4866</td>\n",
       "      <td>Hefeweizen</td>\n",
       "      <td>1146</td>\n",
       "      <td>US</td>\n",
       "      <td>German Hefeweizen</td>\n",
       "      <td>Spring</td>\n",
       "      <td>4.8</td>\n",
       "      <td>f</td>\n",
       "      <td>17</td>\n",
       "      <td>3.735294</td>\n",
       "      <td>3.808824</td>\n",
       "      <td>3.882353</td>\n",
       "      <td>3.647059</td>\n",
       "      <td>3.779412</td>\n",
       "      <td>3.811765</td>\n",
       "      <td>Goose Island Beer Co.</td>\n",
       "    </tr>\n",
       "    <tr>\n",
       "      <th>429</th>\n",
       "      <td>5095</td>\n",
       "      <td>Pale Ale</td>\n",
       "      <td>778</td>\n",
       "      <td>US</td>\n",
       "      <td>American Pale Ale (APA)</td>\n",
       "      <td>Year-round</td>\n",
       "      <td>4.2</td>\n",
       "      <td>t</td>\n",
       "      <td>7</td>\n",
       "      <td>3.571429</td>\n",
       "      <td>3.000000</td>\n",
       "      <td>3.285714</td>\n",
       "      <td>3.214286</td>\n",
       "      <td>3.357143</td>\n",
       "      <td>3.241429</td>\n",
       "      <td>Pioneer Brewing Company</td>\n",
       "    </tr>\n",
       "    <tr>\n",
       "      <th>...</th>\n",
       "      <td>...</td>\n",
       "      <td>...</td>\n",
       "      <td>...</td>\n",
       "      <td>...</td>\n",
       "      <td>...</td>\n",
       "      <td>...</td>\n",
       "      <td>...</td>\n",
       "      <td>...</td>\n",
       "      <td>...</td>\n",
       "      <td>...</td>\n",
       "      <td>...</td>\n",
       "      <td>...</td>\n",
       "      <td>...</td>\n",
       "      <td>...</td>\n",
       "      <td>...</td>\n",
       "      <td>...</td>\n",
       "    </tr>\n",
       "    <tr>\n",
       "      <th>109303</th>\n",
       "      <td>365897</td>\n",
       "      <td>Dad Jokes</td>\n",
       "      <td>48592</td>\n",
       "      <td>US</td>\n",
       "      <td>American Imperial IPA</td>\n",
       "      <td>Rotating</td>\n",
       "      <td>8.3</td>\n",
       "      <td>f</td>\n",
       "      <td>15</td>\n",
       "      <td>4.183333</td>\n",
       "      <td>4.216667</td>\n",
       "      <td>4.266667</td>\n",
       "      <td>4.250000</td>\n",
       "      <td>4.216667</td>\n",
       "      <td>4.238667</td>\n",
       "      <td>Blackstack Brewing</td>\n",
       "    </tr>\n",
       "    <tr>\n",
       "      <th>109317</th>\n",
       "      <td>366944</td>\n",
       "      <td>What The Fluff?</td>\n",
       "      <td>49534</td>\n",
       "      <td>US</td>\n",
       "      <td>American Imperial Stout</td>\n",
       "      <td>Rotating</td>\n",
       "      <td>12</td>\n",
       "      <td>f</td>\n",
       "      <td>6</td>\n",
       "      <td>4.375000</td>\n",
       "      <td>4.333333</td>\n",
       "      <td>4.333333</td>\n",
       "      <td>4.291667</td>\n",
       "      <td>4.375000</td>\n",
       "      <td>4.341667</td>\n",
       "      <td>Barrel Theory Beer Company</td>\n",
       "    </tr>\n",
       "    <tr>\n",
       "      <th>109330</th>\n",
       "      <td>368401</td>\n",
       "      <td>Pale Ale</td>\n",
       "      <td>53867</td>\n",
       "      <td>US</td>\n",
       "      <td>American Pale Ale (APA)</td>\n",
       "      <td>Rotating</td>\n",
       "      <td>5.8</td>\n",
       "      <td>f</td>\n",
       "      <td>4</td>\n",
       "      <td>4.125000</td>\n",
       "      <td>4.062500</td>\n",
       "      <td>4.125000</td>\n",
       "      <td>3.937500</td>\n",
       "      <td>4.125000</td>\n",
       "      <td>4.092500</td>\n",
       "      <td>Dynasty Brewing</td>\n",
       "    </tr>\n",
       "    <tr>\n",
       "      <th>109332</th>\n",
       "      <td>368720</td>\n",
       "      <td>Brut IPA</td>\n",
       "      <td>47157</td>\n",
       "      <td>US</td>\n",
       "      <td>American IPA</td>\n",
       "      <td>Rotating</td>\n",
       "      <td>6.5</td>\n",
       "      <td>f</td>\n",
       "      <td>5</td>\n",
       "      <td>4.000000</td>\n",
       "      <td>4.150000</td>\n",
       "      <td>4.100000</td>\n",
       "      <td>4.050000</td>\n",
       "      <td>4.050000</td>\n",
       "      <td>4.094000</td>\n",
       "      <td>New Heights Brewery</td>\n",
       "    </tr>\n",
       "    <tr>\n",
       "      <th>109349</th>\n",
       "      <td>371163</td>\n",
       "      <td>Oktoberfest</td>\n",
       "      <td>49747</td>\n",
       "      <td>US</td>\n",
       "      <td>German Märzen / Oktoberfest</td>\n",
       "      <td>Fall</td>\n",
       "      <td>6</td>\n",
       "      <td>f</td>\n",
       "      <td>4</td>\n",
       "      <td>3.687500</td>\n",
       "      <td>3.625000</td>\n",
       "      <td>3.687500</td>\n",
       "      <td>3.562500</td>\n",
       "      <td>3.687500</td>\n",
       "      <td>3.662500</td>\n",
       "      <td>More Brewing Co.</td>\n",
       "    </tr>\n",
       "  </tbody>\n",
       "</table>\n",
       "<p>8351 rows × 16 columns</p>\n",
       "</div>"
      ],
      "text/plain": [
       "            id             beer brewery_id country  \\\n",
       "112       1238         Pale Ale        403      US   \n",
       "195       2094         Pale Ale        423      US   \n",
       "401       4798         Pale Ale       1683      US   \n",
       "409       4866       Hefeweizen       1146      US   \n",
       "429       5095         Pale Ale        778      US   \n",
       "...        ...              ...        ...     ...   \n",
       "109303  365897        Dad Jokes      48592      US   \n",
       "109317  366944  What The Fluff?      49534      US   \n",
       "109330  368401         Pale Ale      53867      US   \n",
       "109332  368720         Brut IPA      47157      US   \n",
       "109349  371163      Oktoberfest      49747      US   \n",
       "\n",
       "                              style availability  abv retired  count  \\\n",
       "112         American Pale Ale (APA)       Summer  5.8       f     47   \n",
       "195         American Pale Ale (APA)   Year-round  5.4       f    556   \n",
       "401         American Pale Ale (APA)   Year-round  5.4       f    187   \n",
       "409               German Hefeweizen       Spring  4.8       f     17   \n",
       "429         American Pale Ale (APA)   Year-round  4.2       t      7   \n",
       "...                             ...          ...  ...     ...    ...   \n",
       "109303        American Imperial IPA     Rotating  8.3       f     15   \n",
       "109317      American Imperial Stout     Rotating   12       f      6   \n",
       "109330      American Pale Ale (APA)     Rotating  5.8       f      4   \n",
       "109332                 American IPA     Rotating  6.5       f      5   \n",
       "109349  German Märzen / Oktoberfest         Fall    6       f      4   \n",
       "\n",
       "            look     smell     taste      feel   overall     score  \\\n",
       "112     3.654255  3.452128  3.494681  3.489362  3.638298  3.522766   \n",
       "195     3.737410  3.514388  3.652428  3.658273  3.795414  3.654388   \n",
       "401     3.667112  3.326203  3.457219  3.517380  3.584225  3.470588   \n",
       "409     3.735294  3.808824  3.882353  3.647059  3.779412  3.811765   \n",
       "429     3.571429  3.000000  3.285714  3.214286  3.357143  3.241429   \n",
       "...          ...       ...       ...       ...       ...       ...   \n",
       "109303  4.183333  4.216667  4.266667  4.250000  4.216667  4.238667   \n",
       "109317  4.375000  4.333333  4.333333  4.291667  4.375000  4.341667   \n",
       "109330  4.125000  4.062500  4.125000  3.937500  4.125000  4.092500   \n",
       "109332  4.000000  4.150000  4.100000  4.050000  4.050000  4.094000   \n",
       "109349  3.687500  3.625000  3.687500  3.562500  3.687500  3.662500   \n",
       "\n",
       "                           brewery  \n",
       "112        Pyramid Breweries, Inc.  \n",
       "195          Boulevard Brewing Co.  \n",
       "401       Santa Fe Brewing Company  \n",
       "409          Goose Island Beer Co.  \n",
       "429        Pioneer Brewing Company  \n",
       "...                            ...  \n",
       "109303          Blackstack Brewing  \n",
       "109317  Barrel Theory Beer Company  \n",
       "109330             Dynasty Brewing  \n",
       "109332         New Heights Brewery  \n",
       "109349            More Brewing Co.  \n",
       "\n",
       "[8351 rows x 16 columns]"
      ]
     },
     "execution_count": 36,
     "metadata": {},
     "output_type": "execute_result"
    }
   ],
   "source": [
    "df2 = df[df.duplicated(subset=\"beer\")]\n",
    "df2"
   ]
  },
  {
   "cell_type": "code",
   "execution_count": 37,
   "metadata": {},
   "outputs": [
    {
     "name": "stderr",
     "output_type": "stream",
     "text": [
      "/var/folders/bh/xbydwd1s4h1d4fmjlbfcrbwc0000gn/T/ipykernel_48789/1274657400.py:1: SettingWithCopyWarning: \n",
      "A value is trying to be set on a copy of a slice from a DataFrame.\n",
      "Try using .loc[row_indexer,col_indexer] = value instead\n",
      "\n",
      "See the caveats in the documentation: https://pandas.pydata.org/pandas-docs/stable/user_guide/indexing.html#returning-a-view-versus-a-copy\n",
      "  df2[\"beer\"] = df2[\"brewery\"] + \" \"+df2[\"beer\"]\n"
     ]
    }
   ],
   "source": [
    "df2[\"beer\"] = df2[\"brewery\"] + \" \"+df2[\"beer\"]\n",
    "df3 = df.merge(df2[['id', 'beer']], on=\"id\", how=\"left\")"
   ]
  },
  {
   "cell_type": "code",
   "execution_count": 38,
   "metadata": {},
   "outputs": [],
   "source": [
    "df3['beer_x'] = df3.apply(lambda row: row['beer_y'] if pd.notnull(row['beer_y']) else row['beer_x'], axis=1)\n",
    "df = df3.drop(columns=\"beer_y\").rename(columns={\"beer_x\":\"beer\"})"
   ]
  },
  {
   "cell_type": "code",
   "execution_count": 41,
   "metadata": {},
   "outputs": [],
   "source": [
    "df.to_csv(\"processed_data/merged_list.csv\", index=False, header=True)"
   ]
  }
 ],
 "metadata": {
  "kernelspec": {
   "display_name": ".venv",
   "language": "python",
   "name": "python3"
  },
  "language_info": {
   "codemirror_mode": {
    "name": "ipython",
    "version": 3
   },
   "file_extension": ".py",
   "mimetype": "text/x-python",
   "name": "python",
   "nbconvert_exporter": "python",
   "pygments_lexer": "ipython3",
   "version": "3.11.1"
  }
 },
 "nbformat": 4,
 "nbformat_minor": 2
}
