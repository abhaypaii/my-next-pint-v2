{
 "cells": [
  {
   "cell_type": "code",
   "execution_count": 42,
   "metadata": {},
   "outputs": [],
   "source": [
    "from pyspark.sql.functions import split\n",
    "from pyspark.sql import SparkSession\n",
    "from pyspark.ml.feature import Word2Vec, PCA, VectorAssembler\n",
    "from pyspark.ml.clustering import KMeans"
   ]
  },
  {
   "cell_type": "code",
   "execution_count": 4,
   "metadata": {},
   "outputs": [
    {
     "name": "stderr",
     "output_type": "stream",
     "text": [
      "24/11/11 12:44:11 WARN Utils: Your hostname, Abhays-MacBook-Air-3.local resolves to a loopback address: 127.0.0.1; using 192.168.0.36 instead (on interface en0)\n",
      "24/11/11 12:44:11 WARN Utils: Set SPARK_LOCAL_IP if you need to bind to another address\n",
      "Setting default log level to \"WARN\".\n",
      "To adjust logging level use sc.setLogLevel(newLevel). For SparkR, use setLogLevel(newLevel).\n",
      "24/11/11 12:44:13 WARN NativeCodeLoader: Unable to load native-hadoop library for your platform... using builtin-java classes where applicable\n"
     ]
    }
   ],
   "source": [
    "spark = SparkSession.builder.appName(\"Beer Reviews Clustering\").getOrCreate()"
   ]
  },
  {
   "cell_type": "code",
   "execution_count": 5,
   "metadata": {},
   "outputs": [
    {
     "name": "stderr",
     "output_type": "stream",
     "text": [
      "                                                                                \r"
     ]
    }
   ],
   "source": [
    "beers = spark.read.csv(path=\"processed_data/merged_list.csv\", header=True, inferSchema=True)"
   ]
  },
  {
   "cell_type": "code",
   "execution_count": 6,
   "metadata": {},
   "outputs": [
    {
     "name": "stderr",
     "output_type": "stream",
     "text": [
      "24/11/11 12:44:37 WARN InstanceBuilder: Failed to load implementation from:dev.ludovic.netlib.blas.JNIBLAS\n",
      "                                                                                \r"
     ]
    }
   ],
   "source": [
    "beers = beers.withColumn(\"style_tokens\", split(beers[\"style\"], \" \"))\n",
    "beers = beers.withColumn(\"availability_tokens\", split(beers[\"availability\"], \" \"))\n",
    "\n",
    "# Apply Word2Vec on `style_tokens`\n",
    "style_word2vec = Word2Vec(vectorSize=50, minCount=0, inputCol=\"style_tokens\", outputCol=\"style_embed\")\n",
    "style_model = style_word2vec.fit(beers)\n",
    "beers = style_model.transform(beers)\n",
    "\n",
    "# Apply Word2Vec on `availability_tokens`\n",
    "availability_word2vec = Word2Vec(vectorSize=50, minCount=0, inputCol=\"availability_tokens\", outputCol=\"availability_embed\")\n",
    "availability_model = availability_word2vec.fit(beers)\n",
    "beers = availability_model.transform(beers)"
   ]
  },
  {
   "cell_type": "code",
   "execution_count": 7,
   "metadata": {},
   "outputs": [],
   "source": [
    "beers = beers.drop(\"style_tokens\", \"availability_tokens\")"
   ]
  },
  {
   "cell_type": "code",
   "execution_count": 8,
   "metadata": {},
   "outputs": [
    {
     "name": "stderr",
     "output_type": "stream",
     "text": [
      "24/11/11 12:44:51 WARN InstanceBuilder: Failed to load implementation from:dev.ludovic.netlib.lapack.JNILAPACK\n"
     ]
    }
   ],
   "source": [
    "# Apply PCA on style embeddings\n",
    "style_pca = PCA(k=10, inputCol=\"style_embed\", outputCol=\"style_embed_pca\")\n",
    "style_pca_model = style_pca.fit(beers)\n",
    "beers = style_pca_model.transform(beers)\n",
    "\n",
    "# Apply PCA on availability embeddings\n",
    "availability_pca = PCA(k=10, inputCol=\"availability_embed\", outputCol=\"availability_embed_pca\")\n",
    "availability_pca_model = availability_pca.fit(beers)\n",
    "beers = availability_pca_model.transform(beers)"
   ]
  },
  {
   "cell_type": "code",
   "execution_count": 9,
   "metadata": {},
   "outputs": [],
   "source": [
    "beers = beers.drop(\"style_embed\", \"availability_embed\")\n",
    "beers = beers.withColumn(\"abv\", beers[\"abv\"].cast(\"int\")).dropna(subset=\"abv\")"
   ]
  },
  {
   "cell_type": "code",
   "execution_count": 48,
   "metadata": {},
   "outputs": [],
   "source": [
    "assembler = VectorAssembler(\n",
    "    inputCols=[\"look\", \"smell\", \"taste\", \"feel\", \"style_embed_pca\", \"availability_embed_pca\"],\n",
    "    outputCol=\"features\"\n",
    ")\n",
    "\n",
    "features_df = assembler.transform(beers)"
   ]
  },
  {
   "cell_type": "code",
   "execution_count": 59,
   "metadata": {},
   "outputs": [
    {
     "name": "stderr",
     "output_type": "stream",
     "text": [
      "                                                                                \r"
     ]
    }
   ],
   "source": [
    "kmeans = KMeans(k=40, seed=1, featuresCol=\"features\")\n",
    "model = kmeans.fit(features_df)\n",
    "predictions = model.transform(features_df)"
   ]
  },
  {
   "cell_type": "code",
   "execution_count": 66,
   "metadata": {},
   "outputs": [
    {
     "name": "stderr",
     "output_type": "stream",
     "text": [
      "                                                                                \r"
     ]
    }
   ],
   "source": [
    "pca = PCA(k=3, inputCol=\"features\", outputCol=\"feature\")\n",
    "pca_model = pca.fit(predictions)\n",
    "data = pca_model.transform(predictions)"
   ]
  },
  {
   "cell_type": "code",
   "execution_count": 67,
   "metadata": {},
   "outputs": [
    {
     "name": "stdout",
     "output_type": "stream",
     "text": [
      "+---+--------------------+----------+-------+--------------------+------------+---+-------+-----+------------------+------------------+------------------+------------------+------------------+------------------+--------------------+--------------------+----------------------+--------------------+----------+--------------------+\n",
      "| id|                beer|brewery_id|country|               style|availability|abv|retired|count|              look|             smell|             taste|              feel|           overall|             score|             brewery|     style_embed_pca|availability_embed_pca|            features|prediction|             feature|\n",
      "+---+--------------------+----------+-------+--------------------+------------+---+-------+-----+------------------+------------------+------------------+------------------+------------------+------------------+--------------------+--------------------+----------------------+--------------------+----------+--------------------+\n",
      "| 26|Wachusett October...|        20|     US|American Amber / ...|    Rotating|  5|      f|   87| 3.574712643678161|3.3017241379310347|3.4511494252873565|3.4511494252873565|3.5229885057471266|3.4373563218390806|Wachusett Brewing...|[-0.5122931465319...|  [-1.4974377469391...|[3.57471264367816...|        35|[0.78356190228025...|\n",
      "| 27|   Quinn's Amber Ale|        20|     US|       Irish Red Ale|    Rotating|  4|      f|   52|3.5913461538461537|3.3413461538461537|3.4086538461538463|3.4326923076923075|3.5096153846153846|3.4265384615384615|Wachusett Brewing...|[-0.4528348012854...|  [-1.4974377469391...|[3.59134615384615...|        35|[0.74736256677630...|\n",
      "| 31|  Blanche De Chambly|        22|     CA|     Belgian Witbier|  Year-round|  5|      f| 1387|3.8832011535688538|3.8347152126892574|3.8868060562364817| 3.816510454217736| 3.960706560922855|   3.8826171593367|            Unibroue|[1.57970369140521...|  [-1.5024095579265...|[3.88320115356885...|         2|[0.62905558151250...|\n",
      "| 34|     La Fin Du Monde|        22|     CA|      Belgian Tripel|  Year-round|  9|      f| 4181|4.2486247309256155| 4.251614446304711| 4.381069122219564| 4.287491030853863| 4.317388184644821| 4.320846687395351|            Unibroue|[1.54173449926173...|  [-1.5024095579265...|[4.24862473092561...|         2|[0.53587732843491...|\n",
      "| 44|               Lager|       155|     CA|      German Pilsner|  Year-round|  5|      f|   66|3.3636363636363638|3.1553030303030303| 3.537878787878788|3.4318181818181817| 3.621212121212121|3.4419696969696973|Upper Canada Brew...|[0.41234681047743...|  [-1.5024095579265...|[3.36363636363636...|        14|[0.81940933216598...|\n",
      "+---+--------------------+----------+-------+--------------------+------------+---+-------+-----+------------------+------------------+------------------+------------------+------------------+------------------+--------------------+--------------------+----------------------+--------------------+----------+--------------------+\n",
      "only showing top 5 rows\n",
      "\n"
     ]
    }
   ],
   "source": [
    "data.show(5)"
   ]
  },
  {
   "cell_type": "code",
   "execution_count": 72,
   "metadata": {},
   "outputs": [
    {
     "name": "stderr",
     "output_type": "stream",
     "text": [
      "                                                                                \r"
     ]
    }
   ],
   "source": [
    "df = data.drop(\"style_embed_pca\", \"availability_embed_pca\", \"features\").toPandas()"
   ]
  },
  {
   "cell_type": "code",
   "execution_count": 73,
   "metadata": {},
   "outputs": [
    {
     "data": {
      "text/plain": [
       "prediction\n",
       "0     7500\n",
       "14    6406\n",
       "6     5329\n",
       "39    5169\n",
       "7     4450\n",
       "2     4303\n",
       "25    3852\n",
       "21    3842\n",
       "36    3760\n",
       "38    3756\n",
       "27    3645\n",
       "3     3548\n",
       "15    3398\n",
       "4     3365\n",
       "17    3199\n",
       "28    2965\n",
       "1     2874\n",
       "26    2775\n",
       "34    2607\n",
       "35    2562\n",
       "10    1899\n",
       "5     1871\n",
       "31    1841\n",
       "13    1751\n",
       "12    1663\n",
       "19    1377\n",
       "23    1305\n",
       "18    1298\n",
       "24    1281\n",
       "30    1244\n",
       "9     1183\n",
       "22    1066\n",
       "8     1010\n",
       "37     903\n",
       "33     773\n",
       "32     750\n",
       "29     648\n",
       "16     508\n",
       "20     415\n",
       "11     320\n",
       "Name: count, dtype: int64"
      ]
     },
     "execution_count": 73,
     "metadata": {},
     "output_type": "execute_result"
    }
   ],
   "source": [
    "df[\"prediction\"].value_counts()"
   ]
  },
  {
   "cell_type": "code",
   "execution_count": 75,
   "metadata": {},
   "outputs": [],
   "source": [
    "df = df.rename(columns={\"prediction\":\"cluster\", \"feature\":\"features\"})"
   ]
  },
  {
   "cell_type": "code",
   "execution_count": 76,
   "metadata": {},
   "outputs": [
    {
     "data": {
      "text/html": [
       "<div>\n",
       "<style scoped>\n",
       "    .dataframe tbody tr th:only-of-type {\n",
       "        vertical-align: middle;\n",
       "    }\n",
       "\n",
       "    .dataframe tbody tr th {\n",
       "        vertical-align: top;\n",
       "    }\n",
       "\n",
       "    .dataframe thead th {\n",
       "        text-align: right;\n",
       "    }\n",
       "</style>\n",
       "<table border=\"1\" class=\"dataframe\">\n",
       "  <thead>\n",
       "    <tr style=\"text-align: right;\">\n",
       "      <th></th>\n",
       "      <th>id</th>\n",
       "      <th>beer</th>\n",
       "      <th>brewery_id</th>\n",
       "      <th>country</th>\n",
       "      <th>style</th>\n",
       "      <th>availability</th>\n",
       "      <th>abv</th>\n",
       "      <th>retired</th>\n",
       "      <th>count</th>\n",
       "      <th>look</th>\n",
       "      <th>smell</th>\n",
       "      <th>taste</th>\n",
       "      <th>feel</th>\n",
       "      <th>overall</th>\n",
       "      <th>score</th>\n",
       "      <th>brewery</th>\n",
       "      <th>cluster</th>\n",
       "      <th>features</th>\n",
       "    </tr>\n",
       "  </thead>\n",
       "  <tbody>\n",
       "    <tr>\n",
       "      <th>0</th>\n",
       "      <td>26</td>\n",
       "      <td>Wachusett Octoberfest Ale</td>\n",
       "      <td>20</td>\n",
       "      <td>US</td>\n",
       "      <td>American Amber / Red Ale</td>\n",
       "      <td>Rotating</td>\n",
       "      <td>5</td>\n",
       "      <td>f</td>\n",
       "      <td>87</td>\n",
       "      <td>3.574713</td>\n",
       "      <td>3.301724</td>\n",
       "      <td>3.451149</td>\n",
       "      <td>3.451149</td>\n",
       "      <td>3.522989</td>\n",
       "      <td>3.437356</td>\n",
       "      <td>Wachusett Brewing Company</td>\n",
       "      <td>35</td>\n",
       "      <td>[0.7835619022802504, -1.9435483736425239, -0.3...</td>\n",
       "    </tr>\n",
       "    <tr>\n",
       "      <th>1</th>\n",
       "      <td>27</td>\n",
       "      <td>Quinn's Amber Ale</td>\n",
       "      <td>20</td>\n",
       "      <td>US</td>\n",
       "      <td>Irish Red Ale</td>\n",
       "      <td>Rotating</td>\n",
       "      <td>4</td>\n",
       "      <td>f</td>\n",
       "      <td>52</td>\n",
       "      <td>3.591346</td>\n",
       "      <td>3.341346</td>\n",
       "      <td>3.408654</td>\n",
       "      <td>3.432692</td>\n",
       "      <td>3.509615</td>\n",
       "      <td>3.426538</td>\n",
       "      <td>Wachusett Brewing Company</td>\n",
       "      <td>35</td>\n",
       "      <td>[0.7473625667763036, -1.899459959713967, -0.13...</td>\n",
       "    </tr>\n",
       "    <tr>\n",
       "      <th>2</th>\n",
       "      <td>31</td>\n",
       "      <td>Blanche De Chambly</td>\n",
       "      <td>22</td>\n",
       "      <td>CA</td>\n",
       "      <td>Belgian Witbier</td>\n",
       "      <td>Year-round</td>\n",
       "      <td>5</td>\n",
       "      <td>f</td>\n",
       "      <td>1387</td>\n",
       "      <td>3.883201</td>\n",
       "      <td>3.834715</td>\n",
       "      <td>3.886806</td>\n",
       "      <td>3.816510</td>\n",
       "      <td>3.960707</td>\n",
       "      <td>3.882617</td>\n",
       "      <td>Unibroue</td>\n",
       "      <td>2</td>\n",
       "      <td>[0.6290555815125006, -0.17287367775654713, -0....</td>\n",
       "    </tr>\n",
       "    <tr>\n",
       "      <th>3</th>\n",
       "      <td>34</td>\n",
       "      <td>La Fin Du Monde</td>\n",
       "      <td>22</td>\n",
       "      <td>CA</td>\n",
       "      <td>Belgian Tripel</td>\n",
       "      <td>Year-round</td>\n",
       "      <td>9</td>\n",
       "      <td>f</td>\n",
       "      <td>4181</td>\n",
       "      <td>4.248625</td>\n",
       "      <td>4.251614</td>\n",
       "      <td>4.381069</td>\n",
       "      <td>4.287491</td>\n",
       "      <td>4.317388</td>\n",
       "      <td>4.320847</td>\n",
       "      <td>Unibroue</td>\n",
       "      <td>2</td>\n",
       "      <td>[0.5358773284349162, -0.38704074505242575, -0....</td>\n",
       "    </tr>\n",
       "    <tr>\n",
       "      <th>4</th>\n",
       "      <td>44</td>\n",
       "      <td>Lager</td>\n",
       "      <td>155</td>\n",
       "      <td>CA</td>\n",
       "      <td>German Pilsner</td>\n",
       "      <td>Year-round</td>\n",
       "      <td>5</td>\n",
       "      <td>f</td>\n",
       "      <td>66</td>\n",
       "      <td>3.363636</td>\n",
       "      <td>3.155303</td>\n",
       "      <td>3.537879</td>\n",
       "      <td>3.431818</td>\n",
       "      <td>3.621212</td>\n",
       "      <td>3.441970</td>\n",
       "      <td>Upper Canada Brewing Company</td>\n",
       "      <td>14</td>\n",
       "      <td>[0.819409332165983, -1.2123827897278476, -3.18...</td>\n",
       "    </tr>\n",
       "    <tr>\n",
       "      <th>...</th>\n",
       "      <td>...</td>\n",
       "      <td>...</td>\n",
       "      <td>...</td>\n",
       "      <td>...</td>\n",
       "      <td>...</td>\n",
       "      <td>...</td>\n",
       "      <td>...</td>\n",
       "      <td>...</td>\n",
       "      <td>...</td>\n",
       "      <td>...</td>\n",
       "      <td>...</td>\n",
       "      <td>...</td>\n",
       "      <td>...</td>\n",
       "      <td>...</td>\n",
       "      <td>...</td>\n",
       "      <td>...</td>\n",
       "      <td>...</td>\n",
       "      <td>...</td>\n",
       "    </tr>\n",
       "    <tr>\n",
       "      <th>102406</th>\n",
       "      <td>371149</td>\n",
       "      <td>Gummy Tron</td>\n",
       "      <td>38311</td>\n",
       "      <td>US</td>\n",
       "      <td>American IPA</td>\n",
       "      <td>Limited (brewed once)</td>\n",
       "      <td>7</td>\n",
       "      <td>f</td>\n",
       "      <td>4</td>\n",
       "      <td>3.875000</td>\n",
       "      <td>3.937500</td>\n",
       "      <td>3.937500</td>\n",
       "      <td>4.000000</td>\n",
       "      <td>3.937500</td>\n",
       "      <td>3.940000</td>\n",
       "      <td>Noon Whistle Brewing</td>\n",
       "      <td>38</td>\n",
       "      <td>[-1.3657593978265683, -3.143520730872862, -1.7...</td>\n",
       "    </tr>\n",
       "    <tr>\n",
       "      <th>102407</th>\n",
       "      <td>371163</td>\n",
       "      <td>More Brewing Co. Oktoberfest</td>\n",
       "      <td>49747</td>\n",
       "      <td>US</td>\n",
       "      <td>German Märzen / Oktoberfest</td>\n",
       "      <td>Fall</td>\n",
       "      <td>6</td>\n",
       "      <td>f</td>\n",
       "      <td>4</td>\n",
       "      <td>3.687500</td>\n",
       "      <td>3.625000</td>\n",
       "      <td>3.687500</td>\n",
       "      <td>3.562500</td>\n",
       "      <td>3.687500</td>\n",
       "      <td>3.662500</td>\n",
       "      <td>More Brewing Co.</td>\n",
       "      <td>14</td>\n",
       "      <td>[0.2504266529593981, -0.5529632637013648, -2.7...</td>\n",
       "    </tr>\n",
       "    <tr>\n",
       "      <th>102408</th>\n",
       "      <td>371194</td>\n",
       "      <td>EXPO CHGO</td>\n",
       "      <td>28178</td>\n",
       "      <td>US</td>\n",
       "      <td>American IPA</td>\n",
       "      <td>Limited (brewed once)</td>\n",
       "      <td>6</td>\n",
       "      <td>f</td>\n",
       "      <td>4</td>\n",
       "      <td>4.250000</td>\n",
       "      <td>4.250000</td>\n",
       "      <td>4.312500</td>\n",
       "      <td>4.125000</td>\n",
       "      <td>4.187500</td>\n",
       "      <td>4.252500</td>\n",
       "      <td>Pipeworks Brewing Company</td>\n",
       "      <td>38</td>\n",
       "      <td>[-1.430364003627926, -3.266723212875886, -1.87...</td>\n",
       "    </tr>\n",
       "    <tr>\n",
       "      <th>102409</th>\n",
       "      <td>371438</td>\n",
       "      <td>Pete's Secret Stache</td>\n",
       "      <td>48813</td>\n",
       "      <td>US</td>\n",
       "      <td>New England IPA</td>\n",
       "      <td>Rotating</td>\n",
       "      <td>6</td>\n",
       "      <td>f</td>\n",
       "      <td>5</td>\n",
       "      <td>4.300000</td>\n",
       "      <td>4.300000</td>\n",
       "      <td>4.250000</td>\n",
       "      <td>4.250000</td>\n",
       "      <td>4.300000</td>\n",
       "      <td>4.276000</td>\n",
       "      <td>Revision Brewing Company</td>\n",
       "      <td>33</td>\n",
       "      <td>[0.4917143096231401, -3.2187608302697877, -3.0...</td>\n",
       "    </tr>\n",
       "    <tr>\n",
       "      <th>102410</th>\n",
       "      <td>372254</td>\n",
       "      <td>Gosuhhh, Dude? Grapefruit</td>\n",
       "      <td>49747</td>\n",
       "      <td>US</td>\n",
       "      <td>Leipzig Gose</td>\n",
       "      <td>Rotating</td>\n",
       "      <td>4</td>\n",
       "      <td>f</td>\n",
       "      <td>4</td>\n",
       "      <td>3.875000</td>\n",
       "      <td>3.812500</td>\n",
       "      <td>3.812500</td>\n",
       "      <td>3.937500</td>\n",
       "      <td>3.812500</td>\n",
       "      <td>3.830000</td>\n",
       "      <td>More Brewing Co.</td>\n",
       "      <td>8</td>\n",
       "      <td>[0.6588607595853821, -2.205606632691531, -1.62...</td>\n",
       "    </tr>\n",
       "  </tbody>\n",
       "</table>\n",
       "<p>102411 rows × 18 columns</p>\n",
       "</div>"
      ],
      "text/plain": [
       "            id                          beer brewery_id country  \\\n",
       "0           26     Wachusett Octoberfest Ale         20      US   \n",
       "1           27             Quinn's Amber Ale         20      US   \n",
       "2           31            Blanche De Chambly         22      CA   \n",
       "3           34               La Fin Du Monde         22      CA   \n",
       "4           44                         Lager        155      CA   \n",
       "...        ...                           ...        ...     ...   \n",
       "102406  371149                    Gummy Tron      38311      US   \n",
       "102407  371163  More Brewing Co. Oktoberfest      49747      US   \n",
       "102408  371194                     EXPO CHGO      28178      US   \n",
       "102409  371438          Pete's Secret Stache      48813      US   \n",
       "102410  372254     Gosuhhh, Dude? Grapefruit      49747      US   \n",
       "\n",
       "                              style            availability  abv retired  \\\n",
       "0          American Amber / Red Ale                Rotating    5       f   \n",
       "1                     Irish Red Ale                Rotating    4       f   \n",
       "2                   Belgian Witbier              Year-round    5       f   \n",
       "3                    Belgian Tripel              Year-round    9       f   \n",
       "4                    German Pilsner              Year-round    5       f   \n",
       "...                             ...                     ...  ...     ...   \n",
       "102406                 American IPA   Limited (brewed once)    7       f   \n",
       "102407  German Märzen / Oktoberfest                    Fall    6       f   \n",
       "102408                 American IPA   Limited (brewed once)    6       f   \n",
       "102409              New England IPA                Rotating    6       f   \n",
       "102410                 Leipzig Gose                Rotating    4       f   \n",
       "\n",
       "       count      look     smell     taste      feel   overall     score  \\\n",
       "0         87  3.574713  3.301724  3.451149  3.451149  3.522989  3.437356   \n",
       "1         52  3.591346  3.341346  3.408654  3.432692  3.509615  3.426538   \n",
       "2       1387  3.883201  3.834715  3.886806  3.816510  3.960707  3.882617   \n",
       "3       4181  4.248625  4.251614  4.381069  4.287491  4.317388  4.320847   \n",
       "4         66  3.363636  3.155303  3.537879  3.431818  3.621212  3.441970   \n",
       "...      ...       ...       ...       ...       ...       ...       ...   \n",
       "102406     4  3.875000  3.937500  3.937500  4.000000  3.937500  3.940000   \n",
       "102407     4  3.687500  3.625000  3.687500  3.562500  3.687500  3.662500   \n",
       "102408     4  4.250000  4.250000  4.312500  4.125000  4.187500  4.252500   \n",
       "102409     5  4.300000  4.300000  4.250000  4.250000  4.300000  4.276000   \n",
       "102410     4  3.875000  3.812500  3.812500  3.937500  3.812500  3.830000   \n",
       "\n",
       "                             brewery  cluster  \\\n",
       "0          Wachusett Brewing Company       35   \n",
       "1          Wachusett Brewing Company       35   \n",
       "2                           Unibroue        2   \n",
       "3                           Unibroue        2   \n",
       "4       Upper Canada Brewing Company       14   \n",
       "...                              ...      ...   \n",
       "102406          Noon Whistle Brewing       38   \n",
       "102407              More Brewing Co.       14   \n",
       "102408     Pipeworks Brewing Company       38   \n",
       "102409      Revision Brewing Company       33   \n",
       "102410              More Brewing Co.        8   \n",
       "\n",
       "                                                 features  \n",
       "0       [0.7835619022802504, -1.9435483736425239, -0.3...  \n",
       "1       [0.7473625667763036, -1.899459959713967, -0.13...  \n",
       "2       [0.6290555815125006, -0.17287367775654713, -0....  \n",
       "3       [0.5358773284349162, -0.38704074505242575, -0....  \n",
       "4       [0.819409332165983, -1.2123827897278476, -3.18...  \n",
       "...                                                   ...  \n",
       "102406  [-1.3657593978265683, -3.143520730872862, -1.7...  \n",
       "102407  [0.2504266529593981, -0.5529632637013648, -2.7...  \n",
       "102408  [-1.430364003627926, -3.266723212875886, -1.87...  \n",
       "102409  [0.4917143096231401, -3.2187608302697877, -3.0...  \n",
       "102410  [0.6588607595853821, -2.205606632691531, -1.62...  \n",
       "\n",
       "[102411 rows x 18 columns]"
      ]
     },
     "execution_count": 76,
     "metadata": {},
     "output_type": "execute_result"
    }
   ],
   "source": [
    "df"
   ]
  },
  {
   "cell_type": "code",
   "execution_count": 77,
   "metadata": {},
   "outputs": [],
   "source": [
    "df.to_csv(\"processed_data/embedded_list.csv\", header=True, index=False)"
   ]
  },
  {
   "cell_type": "code",
   "execution_count": null,
   "metadata": {},
   "outputs": [],
   "source": []
  }
 ],
 "metadata": {
  "kernelspec": {
   "display_name": ".venv",
   "language": "python",
   "name": "python3"
  },
  "language_info": {
   "codemirror_mode": {
    "name": "ipython",
    "version": 3
   },
   "file_extension": ".py",
   "mimetype": "text/x-python",
   "name": "python",
   "nbconvert_exporter": "python",
   "pygments_lexer": "ipython3",
   "version": "3.11.1"
  }
 },
 "nbformat": 4,
 "nbformat_minor": 2
}
